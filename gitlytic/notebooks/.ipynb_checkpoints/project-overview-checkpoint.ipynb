{
 "cells": [
  {
   "cell_type": "markdown",
   "metadata": {},
   "source": [
    "# Project analysis"
   ]
  },
  {
   "cell_type": "code",
   "execution_count": 1,
   "metadata": {},
   "outputs": [
    {
     "name": "stdout",
     "output_type": "stream",
     "text": [
      "/home/skupsala/code/gitlytic\n"
     ]
    }
   ],
   "source": [
    "import os\n",
    "import sys\n",
    "import pandas as pd\n",
    "import numpy as np\n",
    "from datetime import datetime, timedelta\n",
    "\n",
    "%matplotlib inline\n",
    "import matplotlib.pyplot as plt\n",
    "import seaborn; seaborn.set()\n",
    "\n",
    "sys.path.append(os.path.realpath(os.path.join(os.getcwd(), os.pardir, os.pardir)))\n",
    "print(os.path.realpath(os.path.join(os.getcwd(), os.pardir, os.pardir)))\n",
    "\n",
    "from gitlytic import settings\n",
    "from gitlytic.dataprocessor import load_repo_commits, load_project_commits\n",
    "from gitlytic.project import get_project_output_dir_by_name, get_project_path"
   ]
  },
  {
   "cell_type": "markdown",
   "metadata": {},
   "source": [
    "Set your project and repo config here"
   ]
  },
  {
   "cell_type": "code",
   "execution_count": 2,
   "metadata": {},
   "outputs": [
    {
     "data": {
      "text/plain": [
       "<bound method DataFrame.from_csv of <class 'pandas.core.frame.DataFrame'>>"
      ]
     },
     "execution_count": 2,
     "metadata": {},
     "output_type": "execute_result"
    }
   ],
   "source": [
    "PROJECT_NAME = 'datascience'\n",
    "pd.DataFrame.from_csv"
   ]
  },
  {
   "cell_type": "markdown",
   "metadata": {},
   "source": [
    "Load repo TSV file"
   ]
  },
  {
   "cell_type": "code",
   "execution_count": 3,
   "metadata": {},
   "outputs": [
    {
     "ename": "FileNotFoundError",
     "evalue": "[Errno 2] No such file or directory: '/home/skupsala/code/gitlytic/data/pydata-project/.gitlytic'",
     "output_type": "error",
     "traceback": [
      "\u001b[0;31m---------------------------------------------------------------------------\u001b[0m",
      "\u001b[0;31mFileNotFoundError\u001b[0m                         Traceback (most recent call last)",
      "\u001b[0;32m<ipython-input-3-1cd69374454c>\u001b[0m in \u001b[0;36m<module>\u001b[0;34m()\u001b[0m\n\u001b[0;32m----> 1\u001b[0;31m \u001b[0mdf\u001b[0m \u001b[0;34m=\u001b[0m \u001b[0mload_project_commits\u001b[0m\u001b[0;34m(\u001b[0m\u001b[0mget_project_path\u001b[0m\u001b[0;34m(\u001b[0m\u001b[0mPROJECT_NAME\u001b[0m\u001b[0;34m)\u001b[0m\u001b[0;34m)\u001b[0m\u001b[0;34m\u001b[0m\u001b[0m\n\u001b[0m",
      "\u001b[0;32m~/code/gitlytic/gitlytic/dataprocessor.py\u001b[0m in \u001b[0;36mload_project_commits\u001b[0;34m(project_path)\u001b[0m\n\u001b[1;32m      9\u001b[0m \u001b[0;32mdef\u001b[0m \u001b[0mload_project_commits\u001b[0m\u001b[0;34m(\u001b[0m\u001b[0mproject_path\u001b[0m\u001b[0;34m)\u001b[0m\u001b[0;34m:\u001b[0m\u001b[0;34m\u001b[0m\u001b[0m\n\u001b[1;32m     10\u001b[0m     \u001b[0mproject_repo_df_list\u001b[0m \u001b[0;34m=\u001b[0m \u001b[0;34m[\u001b[0m\u001b[0;34m]\u001b[0m\u001b[0;34m\u001b[0m\u001b[0m\n\u001b[0;32m---> 11\u001b[0;31m     \u001b[0;32mfor\u001b[0m \u001b[0mf\u001b[0m \u001b[0;32min\u001b[0m \u001b[0mos\u001b[0m\u001b[0;34m.\u001b[0m\u001b[0mlistdir\u001b[0m\u001b[0;34m(\u001b[0m\u001b[0mget_project_output_dir\u001b[0m\u001b[0;34m(\u001b[0m\u001b[0mproject_path\u001b[0m\u001b[0;34m)\u001b[0m\u001b[0;34m)\u001b[0m\u001b[0;34m:\u001b[0m\u001b[0;34m\u001b[0m\u001b[0m\n\u001b[0m\u001b[1;32m     12\u001b[0m         \u001b[0;32mif\u001b[0m \u001b[0mf\u001b[0m\u001b[0;34m.\u001b[0m\u001b[0mstartswith\u001b[0m\u001b[0;34m(\u001b[0m\u001b[0;34m'git_log_'\u001b[0m\u001b[0;34m)\u001b[0m \u001b[0;32mand\u001b[0m \u001b[0mf\u001b[0m\u001b[0;34m.\u001b[0m\u001b[0mendswith\u001b[0m\u001b[0;34m(\u001b[0m\u001b[0;34m'.tsv'\u001b[0m\u001b[0;34m)\u001b[0m\u001b[0;34m:\u001b[0m\u001b[0;34m\u001b[0m\u001b[0m\n\u001b[1;32m     13\u001b[0m             \u001b[0mrepo_name\u001b[0m \u001b[0;34m=\u001b[0m \u001b[0mf\u001b[0m\u001b[0;34m.\u001b[0m\u001b[0mreplace\u001b[0m\u001b[0;34m(\u001b[0m\u001b[0;34m'git_log_'\u001b[0m\u001b[0;34m,\u001b[0m \u001b[0;34m''\u001b[0m\u001b[0;34m,\u001b[0m \u001b[0;36m1\u001b[0m\u001b[0;34m)\u001b[0m\u001b[0;34m.\u001b[0m\u001b[0mreplace\u001b[0m\u001b[0;34m(\u001b[0m\u001b[0;34m'.tsv'\u001b[0m\u001b[0;34m,\u001b[0m \u001b[0;34m''\u001b[0m\u001b[0;34m,\u001b[0m \u001b[0;36m1\u001b[0m\u001b[0;34m)\u001b[0m\u001b[0;34m\u001b[0m\u001b[0m\n",
      "\u001b[0;31mFileNotFoundError\u001b[0m: [Errno 2] No such file or directory: '/home/skupsala/code/gitlytic/data/pydata-project/.gitlytic'"
     ]
    }
   ],
   "source": [
    "df = load_project_commits(get_project_path(PROJECT_NAME))"
   ]
  },
  {
   "cell_type": "code",
   "execution_count": null,
   "metadata": {
    "collapsed": true
   },
   "outputs": [],
   "source": [
    "df.set_index(['repo_name', 'author_email', 'commit_hash'], drop=False, inplace=True)\n",
    "df.head()"
   ]
  },
  {
   "cell_type": "markdown",
   "metadata": {},
   "source": [
    "## Project overview\n",
    "TODO\n",
    "- TOP 10 contributors (3months, 2weeks)\n",
    "  * How many commits\n",
    "  * Percentage of commits\n",
    "- Commmits per week chart over X weeks\n",
    "- Commit message length distribution over all commits\n",
    "- LOC over time\n",
    "- Author count over time\n",
    "- New authors per week for last X weeks\n",
    "- Files over time\n",
    "- Directories over time\n",
    "- Fix commits over time"
   ]
  },
  {
   "cell_type": "markdown",
   "metadata": {},
   "source": [
    "#### Commit and author count"
   ]
  },
  {
   "cell_type": "code",
   "execution_count": null,
   "metadata": {
    "collapsed": true
   },
   "outputs": [],
   "source": [
    "total_commit_count = len(df)\n",
    "print(\"Commit count: {}\".format(total_commit_count))\n",
    "total_author_count = df['author_email'].nunique()\n",
    "print(\"Author count: {}\".format(total_author_count))"
   ]
  },
  {
   "cell_type": "code",
   "execution_count": null,
   "metadata": {
    "collapsed": true
   },
   "outputs": [],
   "source": [
    "def get_top_contributors(df, top_count=10):\n",
    "    commit_count = len(df)\n",
    "    top_committers = df.groupby('author_email').size().sort_values(ascending=False)[:top_count].to_frame(name='commit_count')\n",
    "    top_committers['percentage_of_commits'] = (top_committers['commit_count'] / commit_count) * 100.0\n",
    "    return top_committers"
   ]
  },
  {
   "cell_type": "code",
   "execution_count": null,
   "metadata": {
    "collapsed": true
   },
   "outputs": [],
   "source": [
    "repos_by_hour = {}\n",
    "for repo_name, repo_df in df.groupby(level=0):\n",
    "    print()\n",
    "    print('-----------------------------------------------------------')\n",
    "    print('Repo: {}'.format(repo_name))\n",
    "    print('Commits: {}'.format(len(repo_df)))\n",
    "    print('Authors: {}'.format(repo_df['author_email'].nunique()))\n",
    "    oldest_commit = repo_df.iloc[-1]\n",
    "    age_delta = datetime.now() - oldest_commit.author_date.to_pydatetime()\n",
    "    age_delta_years = age_delta.days // 366 # This is not exact - precise enough for this purpose\n",
    "    print('Age: {years} year(s) and {days} day(s)'.format(years=age_delta_years, days=(age_delta.days-age_delta_years*365)))\n",
    "    print('First commit was written {} by {}'.format(oldest_commit.author_date.to_pydatetime(), oldest_commit.author_name))\n",
    "    print('For nostalgy, here it is:')\n",
    "    print(oldest_commit.subject)\n",
    "    print()\n",
    "    print('Since that a lot have happened...')\n",
    "    TOP_COUNT = 5\n",
    "    print('Here you see top {} contributors portion of the contributions'.format(TOP_COUNT))\n",
    "    repo_top_contributors = get_top_contributors(repo_df, top_count=TOP_COUNT)\n",
    "    print(repo_top_contributors.sum())\n",
    "    print(repo_top_contributors)\n",
    "    print()\n",
    "    print('Last three months top {} contributors'.format(TOP_COUNT))\n",
    "    last_three_months_commits = repo_df[repo_df['author_date'] >= (datetime.today() - timedelta(days=3 * 30))]\n",
    "    last_three_months_top_contributors = get_top_contributors(last_three_months_commits, top_count=TOP_COUNT)\n",
    "    print(last_three_months_top_contributors)\n",
    "    print()\n",
    "    print('Last two weeks top {} contributors'.format(TOP_COUNT))\n",
    "    last_two_weeks_commits = repo_df[repo_df['author_date'] >= (datetime.today() - timedelta(days=14))]\n",
    "    last_two_weeks_top_contributors = get_top_contributors(last_two_weeks_commits, top_count=TOP_COUNT)\n",
    "    print(last_two_weeks_top_contributors)\n",
    "    author_date_index = pd.DatetimeIndex(repo_df['author_date'])\n",
    "    repos_by_hour[repo_name] = repo_df.groupby(author_date_index.hour)['author_email'].count()\n",
    "    "
   ]
  },
  {
   "cell_type": "markdown",
   "metadata": {},
   "source": [
    "### Commits over time"
   ]
  },
  {
   "cell_type": "code",
   "execution_count": null,
   "metadata": {
    "collapsed": true
   },
   "outputs": [],
   "source": [
    "for repo_name, by_hour in repos_by_hour.items():\n",
    "    ax = by_hour.plot(xticks=np.arange(24), label=repo_name)\n",
    "    ax.legend()\n",
    "mean_by_hour_df = pd.concat(list(repos_by_hour.values()), axis=1)\n",
    "ax = mean_by_hour_df.mean(axis=1).plot(xticks=np.arange(24), label='mean', style='--')\n",
    "ax.legend()"
   ]
  },
  {
   "cell_type": "markdown",
   "metadata": {},
   "source": [
    "### Subject line distributions"
   ]
  },
  {
   "cell_type": "code",
   "execution_count": null,
   "metadata": {
    "collapsed": true
   },
   "outputs": [],
   "source": [
    "for repo_name, repo_df in df.groupby(level=0):\n",
    "    plt.figure()\n",
    "    s = pd.Series(repo_df['subject'].str.len().values)\n",
    "    ax = s.dropna().hist(bins=[n for n in range(0, 200, 10)], label=repo_name)\n",
    "    ax.legend()\n",
    "\n",
    "plt.figure()\n",
    "s = pd.Series(df['subject'].str.len().values)\n",
    "ax = s.dropna().hist(bins=[n for n in range(0, 200, 10)], label='project_summary')\n",
    "ax.legend()"
   ]
  },
  {
   "cell_type": "code",
   "execution_count": null,
   "metadata": {
    "collapsed": true
   },
   "outputs": [],
   "source": []
  }
 ],
 "metadata": {
  "kernelspec": {
   "display_name": "Python 3",
   "language": "python",
   "name": "python3"
  },
  "language_info": {
   "codemirror_mode": {
    "name": "ipython",
    "version": 3
   },
   "file_extension": ".py",
   "mimetype": "text/x-python",
   "name": "python",
   "nbconvert_exporter": "python",
   "pygments_lexer": "ipython3",
   "version": "3.5.2"
  }
 },
 "nbformat": 4,
 "nbformat_minor": 2
}
