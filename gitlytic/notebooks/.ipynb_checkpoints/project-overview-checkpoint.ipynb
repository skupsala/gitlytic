{
 "cells": [
  {
   "cell_type": "markdown",
   "metadata": {},
   "source": [
    "# Project analysis"
   ]
  },
  {
   "cell_type": "code",
   "execution_count": 1,
   "metadata": {
    "collapsed": true
   },
   "outputs": [],
   "source": [
    "import os\n",
    "import sys\n",
    "import pandas as pd\n",
    "import numpy as np\n",
    "from datetime import datetime, timedelta\n",
    "nb_dir = os.path.split(os.getcwd())[0]\n",
    "if nb_dir not in sys.path:\n",
    "    sys.path.append(nb_dir)\n",
    "\n",
    "import settings\n",
    "from dataprocessor import load_repo_commits, load_project_commits\n",
    "from project import get_project_output_dir_by_name, get_project_path"
   ]
  },
  {
   "cell_type": "markdown",
   "metadata": {},
   "source": [
    "Set your project and repo config here"
   ]
  },
  {
   "cell_type": "code",
   "execution_count": 2,
   "metadata": {},
   "outputs": [
    {
     "data": {
      "text/plain": [
       "<bound method DataFrame.from_csv of <class 'pandas.core.frame.DataFrame'>>"
      ]
     },
     "execution_count": 2,
     "metadata": {},
     "output_type": "execute_result"
    }
   ],
   "source": [
    "PROJECT_NAME = 'pydata-project'\n",
    "pd.DataFrame.from_csv"
   ]
  },
  {
   "cell_type": "markdown",
   "metadata": {},
   "source": [
    "Load repo TSV file"
   ]
  },
  {
   "cell_type": "code",
   "execution_count": 3,
   "metadata": {},
   "outputs": [
    {
     "name": "stderr",
     "output_type": "stream",
     "text": [
      "Loading commits dataframe for ipython\n",
      "/home/skupsala/code/gitlytic/venv/lib/python3.5/site-packages/pandas/core/frame.py:1251: ParserWarning: Falling back to the 'python' engine because the 'c' engine does not support regex separators (separators > 1 char and different from '\\s+' are interpreted as regex); you can avoid this warning by specifying engine='python'.\n",
      "  infer_datetime_format=infer_datetime_format)\n",
      "Loading commits dataframe for scipy\n",
      "Loading commits dataframe for notebook\n",
      "Loading commits dataframe for pandas\n",
      "Loading commits dataframe for numpy\n"
     ]
    }
   ],
   "source": [
    "df = load_project_commits(get_project_path(PROJECT_NAME))"
   ]
  },
  {
   "cell_type": "code",
   "execution_count": 4,
   "metadata": {
    "collapsed": true
   },
   "outputs": [],
   "source": [
    "df.set_index(['repo_name', 'author_email', 'commit_hash'], drop=False, inplace=True)"
   ]
  },
  {
   "cell_type": "markdown",
   "metadata": {},
   "source": [
    "## Project overview\n",
    "TODO\n",
    "- TOP 10 contributors (3months, 2weeks)\n",
    "  * How many commits\n",
    "  * Percentage of commits\n",
    "- Commmits per week chart over X weeks\n",
    "- Commit message length distribution over all commits\n",
    "- LOC over time\n",
    "- Author count over time\n",
    "- New authors per week for last X weeks\n",
    "- Files over time\n",
    "- Directories over time\n",
    "- Fix commits over time"
   ]
  },
  {
   "cell_type": "markdown",
   "metadata": {},
   "source": [
    "#### Commit and author count"
   ]
  },
  {
   "cell_type": "code",
   "execution_count": 5,
   "metadata": {},
   "outputs": [
    {
     "name": "stdout",
     "output_type": "stream",
     "text": [
      "Commit count: 83231\n",
      "Author count: 2837\n"
     ]
    }
   ],
   "source": [
    "total_commit_count = len(df)\n",
    "print(\"Commit count: {}\".format(total_commit_count))\n",
    "total_author_count = df['author_email'].nunique()\n",
    "print(\"Author count: {}\".format(total_author_count))"
   ]
  },
  {
   "cell_type": "code",
   "execution_count": 6,
   "metadata": {
    "collapsed": true
   },
   "outputs": [],
   "source": [
    "def get_top_contributors(df, top_count=10):\n",
    "    commit_count = len(df)\n",
    "    top_committers = df.groupby('author_email').size().sort_values(ascending=False)[:top_count].to_frame(name='commit_count')\n",
    "    top_committers['percentage_of_commits'] = (top_committers['commit_count'] / commit_count) * 100.0\n",
    "    return top_committers"
   ]
  },
  {
   "cell_type": "code",
   "execution_count": 20,
   "metadata": {},
   "outputs": [
    {
     "name": "stdout",
     "output_type": "stream",
     "text": [
      "\n",
      "-----------------------------------------------------------\n",
      "Repo: ipython\n",
      "Commits: 22829\n",
      "Authors: 656\n",
      "Age: 12 year(s) and 73 day(s)\n",
      "First commit was written 2005-07-06 17:52:32 by fperez\n",
      "For nostalgy, here it is:\n",
      "Reorganized the directory for ipython/ to have its own dir, which is a bit more consistent with the SVN book recommended layout.\n",
      "\n",
      "Since that a lot have happened...\n",
      "Here you see top 5 contributors portion of the contributions\n",
      "commit_count             14174.000000\n",
      "percentage_of_commits       62.087695\n",
      "dtype: float64\n",
      "                              commit_count  percentage_of_commits\n",
      "author_email                                                     \n",
      "benjaminrk@gmail.com                  5562              24.363748\n",
      "takowl@gmail.com                      2949              12.917780\n",
      "bussonniermatthias@gmail.com          2431              10.648736\n",
      "ellisonbg@gmail.com                   1762               7.718253\n",
      "jdfreder@calpoly.edu                  1470               6.439178\n",
      "\n",
      "Last three months top 5 contributors\n",
      "                              commit_count  percentage_of_commits\n",
      "author_email                                                     \n",
      "takowl@gmail.com                        24              23.076923\n",
      "bussonniermatthias@gmail.com            22              21.153846\n",
      "benjaminrk@gmail.com                    10               9.615385\n",
      "thomas@kluyver.me.uk                     9               8.653846\n",
      "marius.v.niekerk@gmail.com               7               6.730769\n",
      "\n",
      "Last two weeks top 5 contributors\n",
      "                              commit_count  percentage_of_commits\n",
      "author_email                                                     \n",
      "bussonniermatthias@gmail.com            12              50.000000\n",
      "takowl@gmail.com                         9              37.500000\n",
      "thomas@kluyver.me.uk                     2               8.333333\n",
      "pepie34@gmail.com                        1               4.166667\n",
      "\n",
      "-----------------------------------------------------------\n",
      "Repo: notebook\n",
      "Commits: 10352\n",
      "Authors: 356\n",
      "Age: 12 year(s) and 73 day(s)\n",
      "First commit was written 2005-07-06 17:52:32 by fperez\n",
      "For nostalgy, here it is:\n",
      "Reorganized the directory for ipython/ to have its own dir, which is a bit more consistent with the SVN book recommended layout.\n",
      "\n",
      "Since that a lot have happened...\n",
      "Here you see top 5 contributors portion of the contributions\n",
      "commit_count             6838.000000\n",
      "percentage_of_commits      66.054869\n",
      "dtype: float64\n",
      "                              commit_count  percentage_of_commits\n",
      "author_email                                                     \n",
      "benjaminrk@gmail.com                  2781              26.864374\n",
      "bussonniermatthias@gmail.com          1306              12.615920\n",
      "ellisonbg@gmail.com                    980               9.466770\n",
      "takowl@gmail.com                       908               8.771252\n",
      "jdfreder@calpoly.edu                   863               8.336553\n",
      "\n",
      "Last three months top 5 contributors\n",
      "                       commit_count  percentage_of_commits\n",
      "author_email                                              \n",
      "grantnestor@gmail.com            39              23.076923\n",
      "thomas@kluyver.me.uk             32              18.934911\n",
      "takowl@gmail.com                 27              15.976331\n",
      "benjaminrk@gmail.com             25              14.792899\n",
      "rgbkrk@gmail.com                  5               2.958580\n",
      "\n",
      "Last two weeks top 5 contributors\n",
      "                           commit_count  percentage_of_commits\n",
      "author_email                                                  \n",
      "thomas@kluyver.me.uk                  1              33.333333\n",
      "steven.silvester@ieee.org             1              33.333333\n",
      "mpacer@berkeley.edu                   1              33.333333\n",
      "\n",
      "-----------------------------------------------------------\n",
      "Repo: numpy\n",
      "Commits: 16463\n",
      "Authors: 697\n",
      "Age: 15 year(s) and 274 day(s)\n",
      "First commit was written 2001-12-18 15:45:10 by Eric Jones\n",
      "For nostalgy, here it is:\n",
      "factored out the scipy specific distutils code into a scipy_distutils package.\n",
      "\n",
      "Since that a lot have happened...\n",
      "Here you see top 5 contributors portion of the contributions\n",
      "commit_count             8499.000000\n",
      "percentage_of_commits      51.624856\n",
      "dtype: float64\n",
      "                           commit_count  percentage_of_commits\n",
      "author_email                                                  \n",
      "charlesr.harris@gmail.com          3184              19.340339\n",
      "oliphant@enthought.com             1989              12.081638\n",
      "cournape@gmail.com                 1525               9.263196\n",
      "pearu.peterson@gmail.com           1058               6.426532\n",
      "pav@iki.fi                          743               4.513151\n",
      "\n",
      "Last three months top 5 contributors\n",
      "                               commit_count  percentage_of_commits\n",
      "author_email                                                      \n",
      "charlesr.harris@gmail.com                83              35.021097\n",
      "wieser.eric@gmail.com                    61              25.738397\n",
      "sebastian@sipsolutions.net               12               5.063291\n",
      "ralf.gommers@gmail.com                   12               5.063291\n",
      "licht-t@math.dis.titech.ac.jp             8               3.375527\n",
      "\n",
      "Last two weeks top 5 contributors\n",
      "Empty DataFrame\n",
      "Columns: [commit_count, percentage_of_commits]\n",
      "Index: []\n",
      "\n",
      "-----------------------------------------------------------\n",
      "Repo: pandas\n",
      "Commits: 15502\n",
      "Authors: 1058\n",
      "Age: 8 year(s) and 47 day(s)\n",
      "First commit was written 2009-07-31 15:07:16 by Wes McKinney\n",
      "For nostalgy, here it is:\n",
      "Initial directory structure.\n",
      "\n",
      "Since that a lot have happened...\n",
      "Here you see top 5 contributors portion of the contributions\n",
      "commit_count             9840.000000\n",
      "percentage_of_commits      63.475681\n",
      "dtype: float64\n",
      "                              commit_count  percentage_of_commits\n",
      "author_email                                                     \n",
      "jeff@reback.net                       4472              28.847891\n",
      "wesmckinn@gmail.com                   3114              20.087731\n",
      "yoval@gmx.com                          943               6.083086\n",
      "jorisvandenbossche@gmail.com           708               4.567153\n",
      "cpcloud@gmail.com                      603               3.889821\n",
      "\n",
      "Last three months top 5 contributors\n",
      "                        commit_count  percentage_of_commits\n",
      "author_email                                               \n",
      "jeff@reback.net                   34              16.915423\n",
      "gfyoung17@gmail.com               32              15.920398\n",
      "jbrockmendel@gmail.com            14               6.965174\n",
      "me@pietrobattiston.it              7               3.482587\n",
      "terji78@gmail.com                  6               2.985075\n",
      "\n",
      "Last two weeks top 5 contributors\n",
      "Empty DataFrame\n",
      "Columns: [commit_count, percentage_of_commits]\n",
      "Index: []\n",
      "\n",
      "-----------------------------------------------------------\n",
      "Repo: scipy\n",
      "Commits: 18085\n",
      "Authors: 696\n",
      "Age: 16 year(s) and 229 day(s)\n",
      "First commit was written 2001-02-01 08:32:30 by Eric Jones\n",
      "For nostalgy, here it is:\n",
      "Initial revision\n",
      "\n",
      "Since that a lot have happened...\n",
      "Here you see top 5 contributors portion of the contributions\n",
      "commit_count             6556.000000\n",
      "percentage_of_commits      36.251037\n",
      "dtype: float64\n",
      "                             commit_count  percentage_of_commits\n",
      "author_email                                                    \n",
      "pav@iki.fi                           2635              14.570086\n",
      "ralf.gommers@googlemail.com          1563               8.642521\n",
      "oliphant@enthought.com                944               5.219795\n",
      "cournape@gmail.com                    820               4.534144\n",
      "evgeny.burovskiy@gmail.com            594               3.284490\n",
      "\n",
      "Last three months top 5 contributors\n",
      "                            commit_count  percentage_of_commits\n",
      "author_email                                                   \n",
      "pav@iki.fi                           203              30.664653\n",
      "ralf.gommers@gmail.com                90              13.595166\n",
      "mdhaber@mit.edu                       75              11.329305\n",
      "evgeny.burovskiy@gmail.com            48               7.250755\n",
      "jaimefrio@google.com                  29               4.380665\n",
      "\n",
      "Last two weeks top 5 contributors\n",
      "                            commit_count  percentage_of_commits\n",
      "author_email                                                   \n",
      "ralf.gommers@gmail.com                 4              33.333333\n",
      "pav@iki.fi                             4              33.333333\n",
      "warren.weckesser@gmail.com             1               8.333333\n",
      "rainwoodman@gmail.com                  1               8.333333\n",
      "larson.eric.d@gmail.com                1               8.333333\n"
     ]
    },
    {
     "name": "stderr",
     "output_type": "stream",
     "text": [
      "/home/skupsala/code/gitlytic/venv/lib/python3.5/site-packages/ipykernel_launcher.py:3: FutureWarning: 'author_email' is both a column name and an index level.\n",
      "Defaulting to column but this will raise an ambiguity error in a future version\n",
      "  This is separate from the ipykernel package so we can avoid doing imports until\n"
     ]
    }
   ],
   "source": [
    "repos_by_hour = {}\n",
    "for repo_name, repo_df in df.groupby(level=0):\n",
    "    print()\n",
    "    print('-----------------------------------------------------------')\n",
    "    print('Repo: {}'.format(repo_name))\n",
    "    print('Commits: {}'.format(len(repo_df)))\n",
    "    print('Authors: {}'.format(repo_df['author_email'].nunique()))\n",
    "    oldest_commit = repo_df.iloc[-1]\n",
    "    age_delta = datetime.now() - oldest_commit.author_date.to_pydatetime()\n",
    "    age_delta_years = age_delta.days // 366 # This is not exact - precise enough for this purpose\n",
    "    print('Age: {years} year(s) and {days} day(s)'.format(years=age_delta_years, days=(age_delta.days-age_delta_years*365)))\n",
    "    print('First commit was written {} by {}'.format(oldest_commit.author_date.to_pydatetime(), oldest_commit.author_name))\n",
    "    print('For nostalgy, here it is:')\n",
    "    print(oldest_commit.subject)\n",
    "    print()\n",
    "    print('Since that a lot have happened...')\n",
    "    TOP_COUNT = 5\n",
    "    print('Here you see top {} contributors portion of the contributions'.format(TOP_COUNT))\n",
    "    repo_top_contributors = get_top_contributors(repo_df, top_count=TOP_COUNT)\n",
    "    print(repo_top_contributors.sum())\n",
    "    print(repo_top_contributors)\n",
    "    print()\n",
    "    print('Last three months top {} contributors'.format(TOP_COUNT))\n",
    "    last_three_months_commits = repo_df[repo_df['author_date'] >= (datetime.today() - timedelta(days=3 * 30))]\n",
    "    last_three_months_top_contributors = get_top_contributors(last_three_months_commits, top_count=TOP_COUNT)\n",
    "    print(last_three_months_top_contributors)\n",
    "    print()\n",
    "    print('Last two weeks top {} contributors'.format(TOP_COUNT))\n",
    "    last_two_weeks_commits = repo_df[repo_df['author_date'] >= (datetime.today() - timedelta(days=14))]\n",
    "    last_two_weeks_top_contributors = get_top_contributors(last_two_weeks_commits, top_count=TOP_COUNT)\n",
    "    print(last_two_weeks_top_contributors)\n",
    "    author_date_index = pd.DatetimeIndex(repo_df['author_date'])\n",
    "    repos_by_hour[repo_name] = repo_df.groupby(author_date_index.hour)['author_email'].count()\n",
    "    "
   ]
  },
  {
   "cell_type": "markdown",
   "metadata": {},
   "source": [
    "### Commits over time"
   ]
  },
  {
   "cell_type": "code",
   "execution_count": 13,
   "metadata": {
    "collapsed": true
   },
   "outputs": [],
   "source": [
    "%matplotlib notebook\n",
    "import matplotlib.pyplot as plt\n",
    "import seaborn; seaborn.set()"
   ]
  },
  {
   "cell_type": "code",
   "execution_count": 26,
   "metadata": {},
   "outputs": [
    {
     "data": {
      "image/png": "[encoded data removed]",
      "text/plain": [
       "<matplotlib.figure.Figure at 0x7fc8ab95e080>"
      ]
     },
     "metadata": {},
     "output_type": "display_data"
    }
   ],
   "source": [
    "for repo_name, by_hour in repos_by_hour.items():\n",
    "    ax = by_hour.plot(xticks=np.arange(24), label=repo_name)\n",
    "    ax.legend()"
   ]
  },
  {
   "cell_type": "code",
   "execution_count": null,
   "metadata": {
    "collapsed": true
   },
   "outputs": [],
   "source": []
  }
 ],
 "metadata": {
  "kernelspec": {
   "display_name": "Python 3",
   "language": "python",
   "name": "python3"
  },
  "language_info": {
   "codemirror_mode": {
    "name": "ipython",
    "version": 3
   },
   "file_extension": ".py",
   "mimetype": "text/x-python",
   "name": "python",
   "nbconvert_exporter": "python",
   "pygments_lexer": "ipython3",
   "version": "3.5.2"
  }
 },
 "nbformat": 4,
 "nbformat_minor": 2
}
