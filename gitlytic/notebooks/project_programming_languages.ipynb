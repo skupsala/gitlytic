{
 "cells": [
  {
   "cell_type": "markdown",
   "metadata": {},
   "source": [
    "# Project programming languages"
   ]
  },
  {
   "cell_type": "markdown",
   "metadata": {},
   "source": [
    "### Project settings"
   ]
  },
  {
   "cell_type": "code",
   "execution_count": 1,
   "metadata": {
    "collapsed": true
   },
   "outputs": [],
   "source": [
    "PROJECT_NAME = 'simple'"
   ]
  },
  {
   "cell_type": "markdown",
   "metadata": {},
   "source": [
    "### Imports"
   ]
  },
  {
   "cell_type": "code",
   "execution_count": 2,
   "metadata": {},
   "outputs": [
    {
     "name": "stdout",
     "output_type": "stream",
     "text": [
      "/home/skupsala/code/gitlytic\n"
     ]
    }
   ],
   "source": [
    "import os\n",
    "import sys\n",
    "import pandas as pd\n",
    "import numpy as np\n",
    "from datetime import datetime, timedelta\n",
    "import git\n",
    "\n",
    "%matplotlib inline\n",
    "import matplotlib.pyplot as plt\n",
    "import seaborn as sns; sns.set()\n",
    "\n",
    "sys.path.append(os.path.realpath(os.path.join(os.getcwd(), os.pardir, os.pardir)))\n",
    "print(os.path.realpath(os.path.join(os.getcwd(), os.pardir, os.pardir)))\n",
    "\n",
    "from gitlytic import settings\n",
    "from gitlytic.dataloader import load_project_snapshot_df\n",
    "from gitlytic.project import get_project_path"
   ]
  },
  {
   "cell_type": "markdown",
   "metadata": {},
   "source": [
    "### Analysis"
   ]
  },
  {
   "cell_type": "code",
   "execution_count": 3,
   "metadata": {},
   "outputs": [
    {
     "name": "stderr",
     "output_type": "stream",
     "text": [
      "Loading commits dataframe for simple\n"
     ]
    },
    {
     "data": {
      "text/html": [
       "<div>\n",
       "<style>\n",
       "    .dataframe thead tr:only-child th {\n",
       "        text-align: right;\n",
       "    }\n",
       "\n",
       "    .dataframe thead th {\n",
       "        text-align: left;\n",
       "    }\n",
       "\n",
       "    .dataframe tbody tr th {\n",
       "        vertical-align: top;\n",
       "    }\n",
       "</style>\n",
       "<table border=\"1\" class=\"dataframe\">\n",
       "  <thead>\n",
       "    <tr style=\"text-align: right;\">\n",
       "      <th></th>\n",
       "      <th>Markdown</th>\n",
       "      <th>Python</th>\n",
       "      <th>SUM</th>\n",
       "      <th>commit_hash</th>\n",
       "      <th>JavaScript</th>\n",
       "      <th>Sass</th>\n",
       "      <th>Bourne Shell</th>\n",
       "      <th>HTML</th>\n",
       "      <th>author_date</th>\n",
       "      <th>CSS</th>\n",
       "      <th>repo_name</th>\n",
       "    </tr>\n",
       "  </thead>\n",
       "  <tbody>\n",
       "    <tr>\n",
       "      <th>0</th>\n",
       "      <td>37.0</td>\n",
       "      <td>406.0</td>\n",
       "      <td>449.0</td>\n",
       "      <td>4f3900ede6836319d6c5a4c01a47826acf95e099</td>\n",
       "      <td>NaN</td>\n",
       "      <td>NaN</td>\n",
       "      <td>6.0</td>\n",
       "      <td>NaN</td>\n",
       "      <td>2018-04-14 11:41:59</td>\n",
       "      <td>NaN</td>\n",
       "      <td>gitlytic</td>\n",
       "    </tr>\n",
       "    <tr>\n",
       "      <th>1</th>\n",
       "      <td>37.0</td>\n",
       "      <td>214.0</td>\n",
       "      <td>257.0</td>\n",
       "      <td>79db938838f493476314e1ac0cafa8360622ee96</td>\n",
       "      <td>NaN</td>\n",
       "      <td>NaN</td>\n",
       "      <td>6.0</td>\n",
       "      <td>NaN</td>\n",
       "      <td>2018-01-07 16:55:43</td>\n",
       "      <td>NaN</td>\n",
       "      <td>gitlytic</td>\n",
       "    </tr>\n",
       "    <tr>\n",
       "      <th>2</th>\n",
       "      <td>37.0</td>\n",
       "      <td>220.0</td>\n",
       "      <td>263.0</td>\n",
       "      <td>6aaf9dc969f2656e92defa04110a883bd313929a</td>\n",
       "      <td>NaN</td>\n",
       "      <td>NaN</td>\n",
       "      <td>6.0</td>\n",
       "      <td>NaN</td>\n",
       "      <td>2017-12-30 20:21:24</td>\n",
       "      <td>NaN</td>\n",
       "      <td>gitlytic</td>\n",
       "    </tr>\n",
       "    <tr>\n",
       "      <th>3</th>\n",
       "      <td>37.0</td>\n",
       "      <td>358.0</td>\n",
       "      <td>401.0</td>\n",
       "      <td>6281f2ccf0840faea1beea6c4bb70596786e16e5</td>\n",
       "      <td>NaN</td>\n",
       "      <td>NaN</td>\n",
       "      <td>6.0</td>\n",
       "      <td>NaN</td>\n",
       "      <td>2018-03-10 19:51:01</td>\n",
       "      <td>NaN</td>\n",
       "      <td>gitlytic</td>\n",
       "    </tr>\n",
       "    <tr>\n",
       "      <th>4</th>\n",
       "      <td>NaN</td>\n",
       "      <td>159.0</td>\n",
       "      <td>165.0</td>\n",
       "      <td>8e42a93cd36649737b27406eb156944e4935ee10</td>\n",
       "      <td>NaN</td>\n",
       "      <td>NaN</td>\n",
       "      <td>6.0</td>\n",
       "      <td>NaN</td>\n",
       "      <td>2017-12-05 22:07:12</td>\n",
       "      <td>NaN</td>\n",
       "      <td>gitlytic</td>\n",
       "    </tr>\n",
       "  </tbody>\n",
       "</table>\n",
       "</div>"
      ],
      "text/plain": [
       "   Markdown  Python    SUM                               commit_hash  \\\n",
       "0      37.0   406.0  449.0  4f3900ede6836319d6c5a4c01a47826acf95e099   \n",
       "1      37.0   214.0  257.0  79db938838f493476314e1ac0cafa8360622ee96   \n",
       "2      37.0   220.0  263.0  6aaf9dc969f2656e92defa04110a883bd313929a   \n",
       "3      37.0   358.0  401.0  6281f2ccf0840faea1beea6c4bb70596786e16e5   \n",
       "4       NaN   159.0  165.0  8e42a93cd36649737b27406eb156944e4935ee10   \n",
       "\n",
       "   JavaScript  Sass  Bourne Shell  HTML         author_date  CSS repo_name  \n",
       "0         NaN   NaN           6.0   NaN 2018-04-14 11:41:59  NaN  gitlytic  \n",
       "1         NaN   NaN           6.0   NaN 2018-01-07 16:55:43  NaN  gitlytic  \n",
       "2         NaN   NaN           6.0   NaN 2017-12-30 20:21:24  NaN  gitlytic  \n",
       "3         NaN   NaN           6.0   NaN 2018-03-10 19:51:01  NaN  gitlytic  \n",
       "4         NaN   NaN           6.0   NaN 2017-12-05 22:07:12  NaN  gitlytic  "
      ]
     },
     "execution_count": 3,
     "metadata": {},
     "output_type": "execute_result"
    }
   ],
   "source": [
    "cloc_snapshot_df = load_project_snapshot_df(get_project_path(PROJECT_NAME), 'cloc')\n",
    "cloc_snapshot_df.head()"
   ]
  },
  {
   "cell_type": "code",
   "execution_count": 4,
   "metadata": {},
   "outputs": [
    {
     "data": {
      "text/html": [
       "<div>\n",
       "<style>\n",
       "    .dataframe thead tr:only-child th {\n",
       "        text-align: right;\n",
       "    }\n",
       "\n",
       "    .dataframe thead th {\n",
       "        text-align: left;\n",
       "    }\n",
       "\n",
       "    .dataframe tbody tr th {\n",
       "        vertical-align: top;\n",
       "    }\n",
       "</style>\n",
       "<table border=\"1\" class=\"dataframe\">\n",
       "  <thead>\n",
       "    <tr style=\"text-align: right;\">\n",
       "      <th></th>\n",
       "      <th>Markdown</th>\n",
       "      <th>Python</th>\n",
       "      <th>SUM</th>\n",
       "      <th>commit_hash</th>\n",
       "      <th>JavaScript</th>\n",
       "      <th>Sass</th>\n",
       "      <th>Bourne Shell</th>\n",
       "      <th>HTML</th>\n",
       "      <th>author_date</th>\n",
       "      <th>CSS</th>\n",
       "      <th>repo_name</th>\n",
       "    </tr>\n",
       "  </thead>\n",
       "  <tbody>\n",
       "    <tr>\n",
       "      <th>11</th>\n",
       "      <td>44.0</td>\n",
       "      <td>509.0</td>\n",
       "      <td>559.0</td>\n",
       "      <td>73d6b8cd390c504a9456c56baf64cce82cdc6095</td>\n",
       "      <td>NaN</td>\n",
       "      <td>NaN</td>\n",
       "      <td>6.0</td>\n",
       "      <td>NaN</td>\n",
       "      <td>2018-04-28 11:49:37</td>\n",
       "      <td>NaN</td>\n",
       "      <td>gitlytic</td>\n",
       "    </tr>\n",
       "    <tr>\n",
       "      <th>16</th>\n",
       "      <td>NaN</td>\n",
       "      <td>NaN</td>\n",
       "      <td>2732.0</td>\n",
       "      <td>8d9978d750a3e0dcd8b61a9d06e0eb643bba3288</td>\n",
       "      <td>14.0</td>\n",
       "      <td>1650.0</td>\n",
       "      <td>NaN</td>\n",
       "      <td>103.0</td>\n",
       "      <td>2018-01-06 12:06:56</td>\n",
       "      <td>965.0</td>\n",
       "      <td>skupsala.github.io</td>\n",
       "    </tr>\n",
       "  </tbody>\n",
       "</table>\n",
       "</div>"
      ],
      "text/plain": [
       "    Markdown  Python     SUM                               commit_hash  \\\n",
       "11      44.0   509.0   559.0  73d6b8cd390c504a9456c56baf64cce82cdc6095   \n",
       "16       NaN     NaN  2732.0  8d9978d750a3e0dcd8b61a9d06e0eb643bba3288   \n",
       "\n",
       "    JavaScript    Sass  Bourne Shell   HTML         author_date    CSS  \\\n",
       "11         NaN     NaN           6.0    NaN 2018-04-28 11:49:37    NaN   \n",
       "16        14.0  1650.0           NaN  103.0 2018-01-06 12:06:56  965.0   \n",
       "\n",
       "             repo_name  \n",
       "11            gitlytic  \n",
       "16  skupsala.github.io  "
      ]
     },
     "execution_count": 4,
     "metadata": {},
     "output_type": "execute_result"
    }
   ],
   "source": [
    "latest_snapshots_df = cloc_snapshot_df.loc[cloc_snapshot_df.groupby('repo_name').author_date.idxmax()]\n",
    "latest_snapshots_df.head()"
   ]
  },
  {
   "cell_type": "code",
   "execution_count": 5,
   "metadata": {},
   "outputs": [],
   "source": [
    "latest_sums = latest_snapshots_df.sum(numeric_only=True).drop(labels='SUM').sort_values(ascending=False)"
   ]
  },
  {
   "cell_type": "code",
   "execution_count": 6,
   "metadata": {},
   "outputs": [
    {
     "data": {
      "text/plain": [
       "<matplotlib.axes._subplots.AxesSubplot at 0x7f1a386dfef0>"
      ]
     },
     "execution_count": 6,
     "metadata": {},
     "output_type": "execute_result"
    },
    {
     "data": {
      "image/png": "[encoded data removed]",
      "text/plain": [
       "<matplotlib.figure.Figure at 0x7f1a03bfd908>"
      ]
     },
     "metadata": {},
     "output_type": "display_data"
    }
   ],
   "source": [
    "sns.set_style(\"whitegrid\")\n",
    "sns.barplot(x=latest_sums.index, y=latest_sums)"
   ]
  }
 ],
 "metadata": {
  "kernelspec": {
   "display_name": "Python 3",
   "language": "python",
   "name": "python3"
  },
  "language_info": {
   "codemirror_mode": {
    "name": "ipython",
    "version": 3
   },
   "file_extension": ".py",
   "mimetype": "text/x-python",
   "name": "python",
   "nbconvert_exporter": "python",
   "pygments_lexer": "ipython3",
   "version": "3.5.2"
  }
 },
 "nbformat": 4,
 "nbformat_minor": 2
}
