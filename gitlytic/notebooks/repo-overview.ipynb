{
 "cells": [
  {
   "cell_type": "markdown",
   "metadata": {},
   "source": [
    "# Repository overview"
   ]
  },
  {
   "cell_type": "code",
   "execution_count": 17,
   "metadata": {
    "collapsed": true
   },
   "outputs": [],
   "source": [
    "import os\n",
    "import sys\n",
    "import pandas as pd\n",
    "from datetime import datetime\n",
    "nb_dir = os.path.split(os.getcwd())[0]\n",
    "if nb_dir not in sys.path:\n",
    "    sys.path.append(nb_dir)\n",
    "\n",
    "import settings\n",
    "\n",
    "from project_utils import get_project_output_dir_by_name"
   ]
  },
  {
   "cell_type": "markdown",
   "metadata": {},
   "source": [
    "Set your project and repo config here"
   ]
  },
  {
   "cell_type": "code",
   "execution_count": 2,
   "metadata": {
    "collapsed": true
   },
   "outputs": [],
   "source": [
    "PROJECT_NAME = 'pandas-project'\n",
    "REPO_NAME = 'pandas'"
   ]
  },
  {
   "cell_type": "markdown",
   "metadata": {},
   "source": [
    "Load repo TSV file"
   ]
  },
  {
   "cell_type": "code",
   "execution_count": 3,
   "metadata": {},
   "outputs": [],
   "source": [
    "tsv_path = os.path.join(get_project_output_dir_by_name(PROJECT_NAME), 'git_log_{repo}.tsv'.format(repo=REPO_NAME))"
   ]
  },
  {
   "cell_type": "code",
   "execution_count": 29,
   "metadata": {},
   "outputs": [
    {
     "name": "stderr",
     "output_type": "stream",
     "text": [
      "/home/skupsala/code/gitlytic/venv/lib/python3.5/site-packages/pandas/core/frame.py:1251: ParserWarning: Falling back to the 'python' engine because the 'c' engine does not support regex separators (separators > 1 char and different from '\\s+' are interpreted as regex); you can avoid this warning by specifying engine='python'.\n",
      "  infer_datetime_format=infer_datetime_format)\n"
     ]
    },
    {
     "data": {
      "text/html": [
       "<div>\n",
       "<style>\n",
       "    .dataframe thead tr:only-child th {\n",
       "        text-align: right;\n",
       "    }\n",
       "\n",
       "    .dataframe thead th {\n",
       "        text-align: left;\n",
       "    }\n",
       "\n",
       "    .dataframe tbody tr th {\n",
       "        vertical-align: top;\n",
       "    }\n",
       "</style>\n",
       "<table border=\"1\" class=\"dataframe\">\n",
       "  <thead>\n",
       "    <tr style=\"text-align: right;\">\n",
       "      <th></th>\n",
       "      <th>author_name</th>\n",
       "      <th>author_email</th>\n",
       "      <th>author_date</th>\n",
       "      <th>committer_name</th>\n",
       "      <th>committer_email</th>\n",
       "      <th>committer_date</th>\n",
       "      <th>subject</th>\n",
       "    </tr>\n",
       "    <tr>\n",
       "      <th>commit_hash</th>\n",
       "      <th></th>\n",
       "      <th></th>\n",
       "      <th></th>\n",
       "      <th></th>\n",
       "      <th></th>\n",
       "      <th></th>\n",
       "      <th></th>\n",
       "    </tr>\n",
       "  </thead>\n",
       "  <tbody>\n",
       "    <tr>\n",
       "      <th>95f4f7dc78ac21a132b86b01c31efc5b0fdbceab</th>\n",
       "      <td>jbrockmendel</td>\n",
       "      <td>jbrockmendel@gmail.com</td>\n",
       "      <td>2017-08-17 10:13:36</td>\n",
       "      <td>Jeff Reback</td>\n",
       "      <td>jeff@reback.net</td>\n",
       "      <td>2017-08-17 10:13:36</td>\n",
       "      <td>Replace imports of * with explicit imports (#1...</td>\n",
       "    </tr>\n",
       "    <tr>\n",
       "      <th>ecaac87c526f5642389dc36e6ee565fe8d21bfd7</th>\n",
       "      <td>jschendel</td>\n",
       "      <td>jschendel@users.noreply.github.com</td>\n",
       "      <td>2017-08-17 10:10:52</td>\n",
       "      <td>Jeff Reback</td>\n",
       "      <td>jeff@reback.net</td>\n",
       "      <td>2017-08-17 10:10:52</td>\n",
       "      <td>CLN: replace %s syntax with .format in core.dt...</td>\n",
       "    </tr>\n",
       "    <tr>\n",
       "      <th>57befd18cb8ea8d641ea88a5c8ef916a09a9a1aa</th>\n",
       "      <td>jbrockmendel</td>\n",
       "      <td>jbrockmendel@gmail.com</td>\n",
       "      <td>2017-08-16 20:52:29</td>\n",
       "      <td>gfyoung</td>\n",
       "      <td>gfyoung17@gmail.com</td>\n",
       "      <td>2017-08-16 20:52:29</td>\n",
       "      <td>CLN: Remove have_pytz (#17266)</td>\n",
       "    </tr>\n",
       "    <tr>\n",
       "      <th>6fe68325de93a5f745ff49eac57589d33a1d53c1</th>\n",
       "      <td>Daniel Grady</td>\n",
       "      <td>d.c.grady@gmail.com</td>\n",
       "      <td>2017-08-15 22:44:54</td>\n",
       "      <td>Jeff Reback</td>\n",
       "      <td>jeff@reback.net</td>\n",
       "      <td>2017-08-15 22:44:54</td>\n",
       "      <td>BUG: Fix behavior of argmax and argmin with in...</td>\n",
       "    </tr>\n",
       "    <tr>\n",
       "      <th>47b397309e9601640170aedd6f70486a54d638fd</th>\n",
       "      <td>jschendel</td>\n",
       "      <td>jschendel@users.noreply.github.com</td>\n",
       "      <td>2017-08-15 20:42:39</td>\n",
       "      <td>Jeff Reback</td>\n",
       "      <td>jeff@reback.net</td>\n",
       "      <td>2017-08-15 20:42:39</td>\n",
       "      <td>Fix bugs in IntervalIndex.is_non_overlapping_m...</td>\n",
       "    </tr>\n",
       "  </tbody>\n",
       "</table>\n",
       "</div>"
      ],
      "text/plain": [
       "                                           author_name  \\\n",
       "commit_hash                                              \n",
       "95f4f7dc78ac21a132b86b01c31efc5b0fdbceab  jbrockmendel   \n",
       "ecaac87c526f5642389dc36e6ee565fe8d21bfd7     jschendel   \n",
       "57befd18cb8ea8d641ea88a5c8ef916a09a9a1aa  jbrockmendel   \n",
       "6fe68325de93a5f745ff49eac57589d33a1d53c1  Daniel Grady   \n",
       "47b397309e9601640170aedd6f70486a54d638fd     jschendel   \n",
       "\n",
       "                                                                author_email  \\\n",
       "commit_hash                                                                    \n",
       "95f4f7dc78ac21a132b86b01c31efc5b0fdbceab              jbrockmendel@gmail.com   \n",
       "ecaac87c526f5642389dc36e6ee565fe8d21bfd7  jschendel@users.noreply.github.com   \n",
       "57befd18cb8ea8d641ea88a5c8ef916a09a9a1aa              jbrockmendel@gmail.com   \n",
       "6fe68325de93a5f745ff49eac57589d33a1d53c1                 d.c.grady@gmail.com   \n",
       "47b397309e9601640170aedd6f70486a54d638fd  jschendel@users.noreply.github.com   \n",
       "\n",
       "                                                 author_date committer_name  \\\n",
       "commit_hash                                                                   \n",
       "95f4f7dc78ac21a132b86b01c31efc5b0fdbceab 2017-08-17 10:13:36    Jeff Reback   \n",
       "ecaac87c526f5642389dc36e6ee565fe8d21bfd7 2017-08-17 10:10:52    Jeff Reback   \n",
       "57befd18cb8ea8d641ea88a5c8ef916a09a9a1aa 2017-08-16 20:52:29        gfyoung   \n",
       "6fe68325de93a5f745ff49eac57589d33a1d53c1 2017-08-15 22:44:54    Jeff Reback   \n",
       "47b397309e9601640170aedd6f70486a54d638fd 2017-08-15 20:42:39    Jeff Reback   \n",
       "\n",
       "                                              committer_email  \\\n",
       "commit_hash                                                     \n",
       "95f4f7dc78ac21a132b86b01c31efc5b0fdbceab      jeff@reback.net   \n",
       "ecaac87c526f5642389dc36e6ee565fe8d21bfd7      jeff@reback.net   \n",
       "57befd18cb8ea8d641ea88a5c8ef916a09a9a1aa  gfyoung17@gmail.com   \n",
       "6fe68325de93a5f745ff49eac57589d33a1d53c1      jeff@reback.net   \n",
       "47b397309e9601640170aedd6f70486a54d638fd      jeff@reback.net   \n",
       "\n",
       "                                              committer_date  \\\n",
       "commit_hash                                                    \n",
       "95f4f7dc78ac21a132b86b01c31efc5b0fdbceab 2017-08-17 10:13:36   \n",
       "ecaac87c526f5642389dc36e6ee565fe8d21bfd7 2017-08-17 10:10:52   \n",
       "57befd18cb8ea8d641ea88a5c8ef916a09a9a1aa 2017-08-16 20:52:29   \n",
       "6fe68325de93a5f745ff49eac57589d33a1d53c1 2017-08-15 22:44:54   \n",
       "47b397309e9601640170aedd6f70486a54d638fd 2017-08-15 20:42:39   \n",
       "\n",
       "                                                                                    subject  \n",
       "commit_hash                                                                                  \n",
       "95f4f7dc78ac21a132b86b01c31efc5b0fdbceab  Replace imports of * with explicit imports (#1...  \n",
       "ecaac87c526f5642389dc36e6ee565fe8d21bfd7  CLN: replace %s syntax with .format in core.dt...  \n",
       "57befd18cb8ea8d641ea88a5c8ef916a09a9a1aa                     CLN: Remove have_pytz (#17266)  \n",
       "6fe68325de93a5f745ff49eac57589d33a1d53c1  BUG: Fix behavior of argmax and argmin with in...  \n",
       "47b397309e9601640170aedd6f70486a54d638fd  Fix bugs in IntervalIndex.is_non_overlapping_m...  "
      ]
     },
     "execution_count": 29,
     "metadata": {},
     "output_type": "execute_result"
    }
   ],
   "source": [
    "data = pd.DataFrame.from_csv(tsv_path, sep=settings.FIELD_SEPARATOR, parse_dates=['author_date', 'committer_date'], infer_datetime_format=True)\n",
    "data.head()"
   ]
  },
  {
   "cell_type": "markdown",
   "metadata": {},
   "source": [
    "## Repository overview\n",
    "TODO\n",
    "- TOP 10 contributors (alltime, 3months, 2weeks)\n",
    "  * How many commits\n",
    "  * Percentage of commits"
   ]
  },
  {
   "cell_type": "markdown",
   "metadata": {},
   "source": [
    "#### Commit and author count"
   ]
  },
  {
   "cell_type": "code",
   "execution_count": 34,
   "metadata": {},
   "outputs": [
    {
     "name": "stdout",
     "output_type": "stream",
     "text": [
      "Commit count: 15502\n",
      "Author count: 1058\n"
     ]
    }
   ],
   "source": [
    "total_commit_count = len(data)\n",
    "print(\"Commit count: {}\".format(total_commit_count))\n",
    "total_author_count = data['author_email'].nunique()\n",
    "print(\"Author count: {}\".format(total_author_count))"
   ]
  },
  {
   "cell_type": "markdown",
   "metadata": {},
   "source": [
    "#### Oldest commit and age of the repository"
   ]
  },
  {
   "cell_type": "code",
   "execution_count": 31,
   "metadata": {},
   "outputs": [
    {
     "name": "stdout",
     "output_type": "stream",
     "text": [
      "Repository is 8 year(s) and 24 day(s) old.\n",
      "First commit was written 2009-07-31 15:07:16\n"
     ]
    }
   ],
   "source": [
    "oldest_commit_datetime = data.iloc[-1].author_date.to_pydatetime()\n",
    "age_delta = datetime.now() - oldest_commit_datetime\n",
    "age_delta_years = age_delta.days // 365 # This is not exact - precise enough for this purpose\n",
    "print(\"Repository is {years} year(s) and {days} day(s) old.\".format(years=age_delta_years, days=(age_delta.days-age_delta_years*365)))\n",
    "print(\"First commit was written {}\".format(oldest_commit_datetime))"
   ]
  },
  {
   "cell_type": "code",
   "execution_count": 6,
   "metadata": {
    "collapsed": true
   },
   "outputs": [],
   "source": [
    "top_committers = data.groupby('author_email').size().sort_values(ascending=False)[:10]"
   ]
  }
 ],
 "metadata": {
  "kernelspec": {
   "display_name": "Python 3",
   "language": "python",
   "name": "python3"
  },
  "language_info": {
   "codemirror_mode": {
    "name": "ipython",
    "version": 3
   },
   "file_extension": ".py",
   "mimetype": "text/x-python",
   "name": "python",
   "nbconvert_exporter": "python",
   "pygments_lexer": "ipython3",
   "version": "3.5.2"
  }
 },
 "nbformat": 4,
 "nbformat_minor": 2
}
